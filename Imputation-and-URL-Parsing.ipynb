{
 "cells": [
  {
   "cell_type": "code",
   "execution_count": 1,
   "metadata": {},
   "outputs": [],
   "source": [
    "import pandas as pd\n",
    "import numpy as np\n",
    "import seaborn as sns\n",
    "import matplotlib.pyplot as plt\n",
    "%matplotlib inline"
   ]
  },
  {
   "cell_type": "markdown",
   "metadata": {},
   "source": [
    "# Intro\n",
    "\n",
    "The purpose of this notebook is to demonstrate two key tenants of data analysis, imputation and data parsing. In full disclosure, the problems and data are part of a completed technical evaluation.\n",
    "\n",
    "# Challenge 1: Estimating Total Billings\n",
    "\n",
    "The first challenge is to estimate the total billings by Groupon from Q4 2013 in North America overall and by segment. It's important to note that the actual numbers reported by Groupon are available so I can backcheck the estimates to verify my accuracy. \n",
    "\n",
    "As part of the directions for this problem, the company indicated that their data collection tool broke from Oct 20 - Oct 30 2013, but only in regards to the Local Segment; in other words, I'll need to impute this data to make an accurate estimate.\n",
    "\n",
    "Groupon reported gross billings for the quarter as 788,721 dollars (thousands; 7.89E+08).\n",
    "\n",
    "__Exploration__"
   ]
  },
  {
   "cell_type": "code",
   "execution_count": 2,
   "metadata": {},
   "outputs": [
    {
     "data": {
      "text/html": [
       "<div>\n",
       "<style scoped>\n",
       "    .dataframe tbody tr th:only-of-type {\n",
       "        vertical-align: middle;\n",
       "    }\n",
       "\n",
       "    .dataframe tbody tr th {\n",
       "        vertical-align: top;\n",
       "    }\n",
       "\n",
       "    .dataframe thead th {\n",
       "        text-align: right;\n",
       "    }\n",
       "</style>\n",
       "<table border=\"1\" class=\"dataframe\">\n",
       "  <thead>\n",
       "    <tr style=\"text-align: right;\">\n",
       "      <th></th>\n",
       "      <th>Deal ID</th>\n",
       "      <th>Units Sold</th>\n",
       "      <th>Billings</th>\n",
       "      <th>Start Date</th>\n",
       "      <th>Deal URL</th>\n",
       "      <th>Segment</th>\n",
       "      <th>Inventory Type</th>\n",
       "    </tr>\n",
       "  </thead>\n",
       "  <tbody>\n",
       "    <tr>\n",
       "      <th>0</th>\n",
       "      <td>gr-millevois-tire-service-center</td>\n",
       "      <td>0.0</td>\n",
       "      <td>0.0</td>\n",
       "      <td>2011-11-21</td>\n",
       "      <td>http://www.groupon.com/deals/gr-millevois-tire...</td>\n",
       "      <td>Local</td>\n",
       "      <td>Third - Party</td>\n",
       "    </tr>\n",
       "    <tr>\n",
       "      <th>1</th>\n",
       "      <td>gr-manakeesh-cafe-bakery</td>\n",
       "      <td>0.0</td>\n",
       "      <td>0.0</td>\n",
       "      <td>2011-11-21</td>\n",
       "      <td>http://www.groupon.com/deals/gr-manakeesh-cafe...</td>\n",
       "      <td>Local</td>\n",
       "      <td>Third - Party</td>\n",
       "    </tr>\n",
       "    <tr>\n",
       "      <th>2</th>\n",
       "      <td>gr-phoenix-salon-and-spa</td>\n",
       "      <td>0.0</td>\n",
       "      <td>0.0</td>\n",
       "      <td>2011-11-21</td>\n",
       "      <td>http://www.groupon.com/deals/gr-phoenix-salon-...</td>\n",
       "      <td>Local</td>\n",
       "      <td>Third - Party</td>\n",
       "    </tr>\n",
       "    <tr>\n",
       "      <th>3</th>\n",
       "      <td>gr-hands-in-motion</td>\n",
       "      <td>0.0</td>\n",
       "      <td>0.0</td>\n",
       "      <td>2011-11-21</td>\n",
       "      <td>http://www.groupon.com/deals/gr-hands-in-motion</td>\n",
       "      <td>Local</td>\n",
       "      <td>Third - Party</td>\n",
       "    </tr>\n",
       "    <tr>\n",
       "      <th>4</th>\n",
       "      <td>dc-fd2-bartending-college-allentown-reading</td>\n",
       "      <td>86.8</td>\n",
       "      <td>4253.2</td>\n",
       "      <td>2012-06-06</td>\n",
       "      <td>http://www.groupon.com/deals/dc-fd2-bartending...</td>\n",
       "      <td>Local</td>\n",
       "      <td>Third - Party</td>\n",
       "    </tr>\n",
       "  </tbody>\n",
       "</table>\n",
       "</div>"
      ],
      "text/plain": [
       "                                       Deal ID  Units Sold  Billings  \\\n",
       "0             gr-millevois-tire-service-center         0.0       0.0   \n",
       "1                     gr-manakeesh-cafe-bakery         0.0       0.0   \n",
       "2                     gr-phoenix-salon-and-spa         0.0       0.0   \n",
       "3                           gr-hands-in-motion         0.0       0.0   \n",
       "4  dc-fd2-bartending-college-allentown-reading        86.8    4253.2   \n",
       "\n",
       "  Start Date                                           Deal URL Segment  \\\n",
       "0 2011-11-21  http://www.groupon.com/deals/gr-millevois-tire...   Local   \n",
       "1 2011-11-21  http://www.groupon.com/deals/gr-manakeesh-cafe...   Local   \n",
       "2 2011-11-21  http://www.groupon.com/deals/gr-phoenix-salon-...   Local   \n",
       "3 2011-11-21    http://www.groupon.com/deals/gr-hands-in-motion   Local   \n",
       "4 2012-06-06  http://www.groupon.com/deals/dc-fd2-bartending...   Local   \n",
       "\n",
       "  Inventory Type  \n",
       "0  Third - Party  \n",
       "1  Third - Party  \n",
       "2  Third - Party  \n",
       "3  Third - Party  \n",
       "4  Third - Party  "
      ]
     },
     "execution_count": 2,
     "metadata": {},
     "output_type": "execute_result"
    }
   ],
   "source": [
    "#load the data\n",
    "data = pd.read_excel('Q4NADeals.xlsx')\n",
    "\n",
    "data.head()"
   ]
  },
  {
   "cell_type": "code",
   "execution_count": 3,
   "metadata": {},
   "outputs": [
    {
     "name": "stdout",
     "output_type": "stream",
     "text": [
      "<class 'pandas.core.frame.DataFrame'>\n",
      "RangeIndex: 138534 entries, 0 to 138533\n",
      "Data columns (total 7 columns):\n",
      "Deal ID           138534 non-null object\n",
      "Units Sold        138534 non-null float64\n",
      "Billings          138534 non-null float64\n",
      "Start Date        138534 non-null datetime64[ns]\n",
      "Deal URL          138534 non-null object\n",
      "Segment           138534 non-null object\n",
      "Inventory Type    138534 non-null object\n",
      "dtypes: datetime64[ns](1), float64(2), object(4)\n",
      "memory usage: 7.4+ MB\n"
     ]
    }
   ],
   "source": [
    "data.info()"
   ]
  },
  {
   "cell_type": "markdown",
   "metadata": {},
   "source": [
    "All of the features have the correct data type."
   ]
  },
  {
   "cell_type": "code",
   "execution_count": 4,
   "metadata": {},
   "outputs": [
    {
     "data": {
      "text/plain": [
       "Deal ID           0\n",
       "Units Sold        0\n",
       "Billings          0\n",
       "Start Date        0\n",
       "Deal URL          0\n",
       "Segment           0\n",
       "Inventory Type    0\n",
       "dtype: int64"
      ]
     },
     "execution_count": 4,
     "metadata": {},
     "output_type": "execute_result"
    }
   ],
   "source": [
    "#check for missing values\n",
    "data.isnull().sum()"
   ]
  },
  {
   "cell_type": "markdown",
   "metadata": {},
   "source": [
    "There are no missing values."
   ]
  },
  {
   "cell_type": "code",
   "execution_count": 5,
   "metadata": {},
   "outputs": [
    {
     "data": {
      "text/plain": [
       "0"
      ]
     },
     "execution_count": 5,
     "metadata": {},
     "output_type": "execute_result"
    }
   ],
   "source": [
    "data.duplicated().sum()"
   ]
  },
  {
   "cell_type": "markdown",
   "metadata": {},
   "source": [
    "There are no duplicated observations."
   ]
  },
  {
   "cell_type": "code",
   "execution_count": 6,
   "metadata": {},
   "outputs": [
    {
     "data": {
      "image/png": "[encoded data removed]",
      "text/plain": [
       "<matplotlib.figure.Figure at 0x1a125273c8>"
      ]
     },
     "metadata": {},
     "output_type": "display_data"
    },
    {
     "data": {
      "text/plain": [
       "Local     120576\n",
       "Goods      15234\n",
       "Travel      2724\n",
       "Name: Segment, dtype: int64"
      ]
     },
     "metadata": {},
     "output_type": "display_data"
    }
   ],
   "source": [
    "sns.countplot(data.Segment)\n",
    "plt.show();\n",
    "\n",
    "display(data.Segment.value_counts())"
   ]
  },
  {
   "cell_type": "markdown",
   "metadata": {},
   "source": [
    "The local segment is by far the largest segment."
   ]
  },
  {
   "cell_type": "markdown",
   "metadata": {},
   "source": [
    "__Feature Engineering__"
   ]
  },
  {
   "cell_type": "code",
   "execution_count": 7,
   "metadata": {},
   "outputs": [],
   "source": [
    "#create features for the start month and start year\n",
    "data['MonthStart'] = data['Start Date'].dt.month\n",
    "data['YearStart'] = data['Start Date'].dt.year"
   ]
  },
  {
   "cell_type": "code",
   "execution_count": 8,
   "metadata": {},
   "outputs": [
    {
     "data": {
      "text/html": [
       "<div>\n",
       "<style scoped>\n",
       "    .dataframe tbody tr th:only-of-type {\n",
       "        vertical-align: middle;\n",
       "    }\n",
       "\n",
       "    .dataframe tbody tr th {\n",
       "        vertical-align: top;\n",
       "    }\n",
       "\n",
       "    .dataframe thead th {\n",
       "        text-align: right;\n",
       "    }\n",
       "</style>\n",
       "<table border=\"1\" class=\"dataframe\">\n",
       "  <thead>\n",
       "    <tr style=\"text-align: right;\">\n",
       "      <th></th>\n",
       "      <th>Deal ID</th>\n",
       "      <th>Units Sold</th>\n",
       "      <th>Billings</th>\n",
       "      <th>Start Date</th>\n",
       "      <th>Deal URL</th>\n",
       "      <th>Segment</th>\n",
       "      <th>Inventory Type</th>\n",
       "      <th>MonthStart</th>\n",
       "      <th>YearStart</th>\n",
       "    </tr>\n",
       "  </thead>\n",
       "  <tbody>\n",
       "    <tr>\n",
       "      <th>0</th>\n",
       "      <td>gr-millevois-tire-service-center</td>\n",
       "      <td>0.0</td>\n",
       "      <td>0.0</td>\n",
       "      <td>2011-11-21</td>\n",
       "      <td>http://www.groupon.com/deals/gr-millevois-tire...</td>\n",
       "      <td>Local</td>\n",
       "      <td>Third - Party</td>\n",
       "      <td>11</td>\n",
       "      <td>2011</td>\n",
       "    </tr>\n",
       "    <tr>\n",
       "      <th>1</th>\n",
       "      <td>gr-manakeesh-cafe-bakery</td>\n",
       "      <td>0.0</td>\n",
       "      <td>0.0</td>\n",
       "      <td>2011-11-21</td>\n",
       "      <td>http://www.groupon.com/deals/gr-manakeesh-cafe...</td>\n",
       "      <td>Local</td>\n",
       "      <td>Third - Party</td>\n",
       "      <td>11</td>\n",
       "      <td>2011</td>\n",
       "    </tr>\n",
       "    <tr>\n",
       "      <th>2</th>\n",
       "      <td>gr-phoenix-salon-and-spa</td>\n",
       "      <td>0.0</td>\n",
       "      <td>0.0</td>\n",
       "      <td>2011-11-21</td>\n",
       "      <td>http://www.groupon.com/deals/gr-phoenix-salon-...</td>\n",
       "      <td>Local</td>\n",
       "      <td>Third - Party</td>\n",
       "      <td>11</td>\n",
       "      <td>2011</td>\n",
       "    </tr>\n",
       "    <tr>\n",
       "      <th>3</th>\n",
       "      <td>gr-hands-in-motion</td>\n",
       "      <td>0.0</td>\n",
       "      <td>0.0</td>\n",
       "      <td>2011-11-21</td>\n",
       "      <td>http://www.groupon.com/deals/gr-hands-in-motion</td>\n",
       "      <td>Local</td>\n",
       "      <td>Third - Party</td>\n",
       "      <td>11</td>\n",
       "      <td>2011</td>\n",
       "    </tr>\n",
       "    <tr>\n",
       "      <th>4</th>\n",
       "      <td>dc-fd2-bartending-college-allentown-reading</td>\n",
       "      <td>86.8</td>\n",
       "      <td>4253.2</td>\n",
       "      <td>2012-06-06</td>\n",
       "      <td>http://www.groupon.com/deals/dc-fd2-bartending...</td>\n",
       "      <td>Local</td>\n",
       "      <td>Third - Party</td>\n",
       "      <td>6</td>\n",
       "      <td>2012</td>\n",
       "    </tr>\n",
       "  </tbody>\n",
       "</table>\n",
       "</div>"
      ],
      "text/plain": [
       "                                       Deal ID  Units Sold  Billings  \\\n",
       "0             gr-millevois-tire-service-center         0.0       0.0   \n",
       "1                     gr-manakeesh-cafe-bakery         0.0       0.0   \n",
       "2                     gr-phoenix-salon-and-spa         0.0       0.0   \n",
       "3                           gr-hands-in-motion         0.0       0.0   \n",
       "4  dc-fd2-bartending-college-allentown-reading        86.8    4253.2   \n",
       "\n",
       "  Start Date                                           Deal URL Segment  \\\n",
       "0 2011-11-21  http://www.groupon.com/deals/gr-millevois-tire...   Local   \n",
       "1 2011-11-21  http://www.groupon.com/deals/gr-manakeesh-cafe...   Local   \n",
       "2 2011-11-21  http://www.groupon.com/deals/gr-phoenix-salon-...   Local   \n",
       "3 2011-11-21    http://www.groupon.com/deals/gr-hands-in-motion   Local   \n",
       "4 2012-06-06  http://www.groupon.com/deals/dc-fd2-bartending...   Local   \n",
       "\n",
       "  Inventory Type  MonthStart  YearStart  \n",
       "0  Third - Party          11       2011  \n",
       "1  Third - Party          11       2011  \n",
       "2  Third - Party          11       2011  \n",
       "3  Third - Party          11       2011  \n",
       "4  Third - Party           6       2012  "
      ]
     },
     "execution_count": 8,
     "metadata": {},
     "output_type": "execute_result"
    }
   ],
   "source": [
    "data.head()"
   ]
  },
  {
   "cell_type": "code",
   "execution_count": 9,
   "metadata": {},
   "outputs": [
    {
     "data": {
      "image/png": "[encoded data removed]",
      "text/plain": [
       "<matplotlib.figure.Figure at 0x1a1805cfd0>"
      ]
     },
     "metadata": {},
     "output_type": "display_data"
    },
    {
     "data": {
      "text/plain": [
       "2013    133077\n",
       "2012      5453\n",
       "2011         4\n",
       "Name: YearStart, dtype: int64"
      ]
     },
     "metadata": {},
     "output_type": "display_data"
    }
   ],
   "source": [
    "sns.countplot(data.YearStart)\n",
    "plt.show();\n",
    "\n",
    "display(data.YearStart.value_counts())"
   ]
  },
  {
   "cell_type": "code",
   "execution_count": 10,
   "metadata": {},
   "outputs": [
    {
     "data": {
      "image/png": "[encoded data removed]",
      "text/plain": [
       "<matplotlib.figure.Figure at 0x1a1806f780>"
      ]
     },
     "metadata": {},
     "output_type": "display_data"
    }
   ],
   "source": [
    "sns.countplot(data.MonthStart)\n",
    "plt.show();"
   ]
  },
  {
   "cell_type": "markdown",
   "metadata": {},
   "source": [
    "There are deals from every month of the year located in the data. This is because the start data indicated in the data doesn't necessarily indicate when billing occured; billings are only counted during the actual months they are active. Therefore, a deal may have been started in January but still be active in November or December. \n",
    "\n",
    "__Imputation__\n",
    "\n",
    "My imputation strategy will be to use the average total billings per day in the Local segment and in October for the missing days in October. Instead of creating new records for the missing days, I will add the total missing value to my final calculations."
   ]
  },
  {
   "cell_type": "code",
   "execution_count": 11,
   "metadata": {},
   "outputs": [],
   "source": [
    "#create a df with only deals that start in Oct 2013\n",
    "October_local = data[(data.MonthStart == 10) & (data.YearStart == 2013) & (data.Segment == 'Local')]"
   ]
  },
  {
   "cell_type": "code",
   "execution_count": 12,
   "metadata": {},
   "outputs": [
    {
     "data": {
      "text/html": [
       "<div>\n",
       "<style scoped>\n",
       "    .dataframe tbody tr th:only-of-type {\n",
       "        vertical-align: middle;\n",
       "    }\n",
       "\n",
       "    .dataframe tbody tr th {\n",
       "        vertical-align: top;\n",
       "    }\n",
       "\n",
       "    .dataframe thead th {\n",
       "        text-align: right;\n",
       "    }\n",
       "</style>\n",
       "<table border=\"1\" class=\"dataframe\">\n",
       "  <thead>\n",
       "    <tr style=\"text-align: right;\">\n",
       "      <th></th>\n",
       "      <th>Deal ID</th>\n",
       "      <th>Units Sold</th>\n",
       "      <th>Billings</th>\n",
       "      <th>Start Date</th>\n",
       "      <th>Deal URL</th>\n",
       "      <th>Segment</th>\n",
       "      <th>Inventory Type</th>\n",
       "      <th>MonthStart</th>\n",
       "      <th>YearStart</th>\n",
       "    </tr>\n",
       "  </thead>\n",
       "  <tbody>\n",
       "    <tr>\n",
       "      <th>42763</th>\n",
       "      <td>the-ugly-sweater-run-2</td>\n",
       "      <td>0.00</td>\n",
       "      <td>0.0000</td>\n",
       "      <td>2013-10-02</td>\n",
       "      <td>http://www.groupon.com/deals/the-ugly-sweater-...</td>\n",
       "      <td>Local</td>\n",
       "      <td>Third - Party</td>\n",
       "      <td>10</td>\n",
       "      <td>2013</td>\n",
       "    </tr>\n",
       "    <tr>\n",
       "      <th>44443</th>\n",
       "      <td>michael-smith-photography-1</td>\n",
       "      <td>0.00</td>\n",
       "      <td>0.0000</td>\n",
       "      <td>2013-10-05</td>\n",
       "      <td>http://www.groupon.com/deals/michael-smith-pho...</td>\n",
       "      <td>Local</td>\n",
       "      <td>Third - Party</td>\n",
       "      <td>10</td>\n",
       "      <td>2013</td>\n",
       "    </tr>\n",
       "    <tr>\n",
       "      <th>44988</th>\n",
       "      <td>niagara-fun-tours-54</td>\n",
       "      <td>0.00</td>\n",
       "      <td>0.0000</td>\n",
       "      <td>2013-10-16</td>\n",
       "      <td>http://www.groupon.com/deals/niagara-fun-tours-54</td>\n",
       "      <td>Local</td>\n",
       "      <td>Third - Party</td>\n",
       "      <td>10</td>\n",
       "      <td>2013</td>\n",
       "    </tr>\n",
       "    <tr>\n",
       "      <th>46275</th>\n",
       "      <td>elegant-looks</td>\n",
       "      <td>29.15</td>\n",
       "      <td>416.5000</td>\n",
       "      <td>2013-10-06</td>\n",
       "      <td>http://www.groupon.com/deals/elegant-looks</td>\n",
       "      <td>Local</td>\n",
       "      <td>Third - Party</td>\n",
       "      <td>10</td>\n",
       "      <td>2013</td>\n",
       "    </tr>\n",
       "    <tr>\n",
       "      <th>47265</th>\n",
       "      <td>idle-hour-ranch</td>\n",
       "      <td>60.55</td>\n",
       "      <td>976.8945</td>\n",
       "      <td>2013-10-01</td>\n",
       "      <td>http://www.groupon.com/deals/idle-hour-ranch</td>\n",
       "      <td>Local</td>\n",
       "      <td>Third - Party</td>\n",
       "      <td>10</td>\n",
       "      <td>2013</td>\n",
       "    </tr>\n",
       "  </tbody>\n",
       "</table>\n",
       "</div>"
      ],
      "text/plain": [
       "                           Deal ID  Units Sold  Billings Start Date  \\\n",
       "42763       the-ugly-sweater-run-2        0.00    0.0000 2013-10-02   \n",
       "44443  michael-smith-photography-1        0.00    0.0000 2013-10-05   \n",
       "44988         niagara-fun-tours-54        0.00    0.0000 2013-10-16   \n",
       "46275                elegant-looks       29.15  416.5000 2013-10-06   \n",
       "47265              idle-hour-ranch       60.55  976.8945 2013-10-01   \n",
       "\n",
       "                                                Deal URL Segment  \\\n",
       "42763  http://www.groupon.com/deals/the-ugly-sweater-...   Local   \n",
       "44443  http://www.groupon.com/deals/michael-smith-pho...   Local   \n",
       "44988  http://www.groupon.com/deals/niagara-fun-tours-54   Local   \n",
       "46275         http://www.groupon.com/deals/elegant-looks   Local   \n",
       "47265       http://www.groupon.com/deals/idle-hour-ranch   Local   \n",
       "\n",
       "      Inventory Type  MonthStart  YearStart  \n",
       "42763  Third - Party          10       2013  \n",
       "44443  Third - Party          10       2013  \n",
       "44988  Third - Party          10       2013  \n",
       "46275  Third - Party          10       2013  \n",
       "47265  Third - Party          10       2013  "
      ]
     },
     "execution_count": 12,
     "metadata": {},
     "output_type": "execute_result"
    }
   ],
   "source": [
    "October_local.head()"
   ]
  },
  {
   "cell_type": "code",
   "execution_count": 13,
   "metadata": {},
   "outputs": [
    {
     "data": {
      "text/plain": [
       "Start Date\n",
       "2013-10-01    3.140574e+06\n",
       "2013-10-02    3.010398e+06\n",
       "2013-10-03    4.266867e+06\n",
       "2013-10-04    3.538083e+06\n",
       "2013-10-05    1.687881e+06\n",
       "2013-10-06    1.632563e+06\n",
       "2013-10-07    2.771953e+06\n",
       "2013-10-08    3.412731e+06\n",
       "2013-10-09    3.222805e+06\n",
       "2013-10-10    3.866735e+06\n",
       "2013-10-11    3.015991e+06\n",
       "2013-10-12    1.994842e+06\n",
       "2013-10-13    1.519141e+06\n",
       "2013-10-14    3.475041e+06\n",
       "2013-10-15    3.501416e+06\n",
       "2013-10-16    4.072212e+06\n",
       "2013-10-17    4.507996e+06\n",
       "2013-10-18    2.991175e+06\n",
       "2013-10-19    2.477089e+06\n",
       "2013-10-31    3.485813e+06\n",
       "Name: Billings, dtype: float64"
      ]
     },
     "metadata": {},
     "output_type": "display_data"
    }
   ],
   "source": [
    "#find the total billings by day, represented by t\n",
    "t = October_local.groupby('Start Date').Billings.sum()\n",
    "display(t) "
   ]
  },
  {
   "cell_type": "markdown",
   "metadata": {},
   "source": [
    "As you can see above, there are 11 days missing from the data."
   ]
  },
  {
   "cell_type": "code",
   "execution_count": 14,
   "metadata": {},
   "outputs": [
    {
     "data": {
      "image/png": "[encoded data removed]",
      "text/plain": [
       "<matplotlib.figure.Figure at 0x1a17ec7198>"
      ]
     },
     "metadata": {},
     "output_type": "display_data"
    },
    {
     "name": "stdout",
     "output_type": "stream",
     "text": [
      "Total billings accounted for in October: 61591306.80899994\n",
      "The average daily billings in October: 3079565.340449997\n",
      "The median billing amount during this time: 3181689.6372499964\n"
     ]
    }
   ],
   "source": [
    "#check for outliers using a boxplot\n",
    "sns.boxplot(t)\n",
    "plt.show();\n",
    "\n",
    "#calculate some descriptive stats about t\n",
    "print('Total billings accounted for in October: {}'.format(sum(t)))\n",
    "print('The average daily billings in October: {}'.format(np.mean(t)))\n",
    "print('The median billing amount during this time: {}'.format(np.median(t)))"
   ]
  },
  {
   "cell_type": "markdown",
   "metadata": {},
   "source": [
    "The cell above illuminates two key finding. First, there are no outliers in the daily totals. Second, and more importantly, it tells us the average daily billings."
   ]
  },
  {
   "cell_type": "code",
   "execution_count": 15,
   "metadata": {},
   "outputs": [
    {
     "name": "stdout",
     "output_type": "stream",
     "text": [
      "Total Missing Billings in October: 33875218.74494997\n",
      "Total October Billings: 95466525.5539499\n"
     ]
    }
   ],
   "source": [
    "# create a variable for average daily billings during October\n",
    "adb = np.mean(t)\n",
    "\n",
    "#missing billings for 11 days is the adb * 11\n",
    "missing_billings = adb *11\n",
    "\n",
    "print('Total Missing Billings in October: {}'.format(missing_billings))\n",
    "print('Total October Billings: {}'.format(t.sum()+missing_billings))"
   ]
  },
  {
   "cell_type": "markdown",
   "metadata": {},
   "source": [
    "__Estimates__"
   ]
  },
  {
   "cell_type": "code",
   "execution_count": 16,
   "metadata": {},
   "outputs": [
    {
     "data": {
      "text/html": [
       "<div>\n",
       "<style scoped>\n",
       "    .dataframe tbody tr th:only-of-type {\n",
       "        vertical-align: middle;\n",
       "    }\n",
       "\n",
       "    .dataframe tbody tr th {\n",
       "        vertical-align: top;\n",
       "    }\n",
       "\n",
       "    .dataframe thead th {\n",
       "        text-align: right;\n",
       "    }\n",
       "</style>\n",
       "<table border=\"1\" class=\"dataframe\">\n",
       "  <thead>\n",
       "    <tr style=\"text-align: right;\">\n",
       "      <th></th>\n",
       "      <th>Segment</th>\n",
       "      <th>Billings</th>\n",
       "    </tr>\n",
       "  </thead>\n",
       "  <tbody>\n",
       "    <tr>\n",
       "      <th>0</th>\n",
       "      <td>Goods</td>\n",
       "      <td>2.822457e+08</td>\n",
       "    </tr>\n",
       "    <tr>\n",
       "      <th>1</th>\n",
       "      <td>Local</td>\n",
       "      <td>4.092227e+08</td>\n",
       "    </tr>\n",
       "    <tr>\n",
       "      <th>2</th>\n",
       "      <td>Travel</td>\n",
       "      <td>7.055206e+07</td>\n",
       "    </tr>\n",
       "  </tbody>\n",
       "</table>\n",
       "</div>"
      ],
      "text/plain": [
       "  Segment      Billings\n",
       "0   Goods  2.822457e+08\n",
       "1   Local  4.092227e+08\n",
       "2  Travel  7.055206e+07"
      ]
     },
     "metadata": {},
     "output_type": "display_data"
    },
    {
     "name": "stdout",
     "output_type": "stream",
     "text": [
      "Total billings represented in the data: 762020391.1478682\n"
     ]
    }
   ],
   "source": [
    "#create a dataframe using only the total billings by segment\n",
    "c = pd.DataFrame(data.groupby(['Segment']).Billings.sum())\n",
    "\n",
    "#reset the index\n",
    "c.reset_index(inplace=True)\n",
    "\n",
    "display(c)\n",
    "\n",
    "#create a variable for the sum of the total billings\n",
    "tb = c.Billings.sum()\n",
    "\n",
    "print('Total billings represented in the data: {}'.format(tb))"
   ]
  },
  {
   "cell_type": "code",
   "execution_count": 17,
   "metadata": {},
   "outputs": [
    {
     "data": {
      "text/html": [
       "<div>\n",
       "<style scoped>\n",
       "    .dataframe tbody tr th:only-of-type {\n",
       "        vertical-align: middle;\n",
       "    }\n",
       "\n",
       "    .dataframe tbody tr th {\n",
       "        vertical-align: top;\n",
       "    }\n",
       "\n",
       "    .dataframe thead th {\n",
       "        text-align: right;\n",
       "    }\n",
       "</style>\n",
       "<table border=\"1\" class=\"dataframe\">\n",
       "  <thead>\n",
       "    <tr style=\"text-align: right;\">\n",
       "      <th></th>\n",
       "      <th>Segment</th>\n",
       "      <th>Billings</th>\n",
       "    </tr>\n",
       "  </thead>\n",
       "  <tbody>\n",
       "    <tr>\n",
       "      <th>0</th>\n",
       "      <td>Goods</td>\n",
       "      <td>2.822457e+08</td>\n",
       "    </tr>\n",
       "    <tr>\n",
       "      <th>1</th>\n",
       "      <td>Local</td>\n",
       "      <td>4.430979e+08</td>\n",
       "    </tr>\n",
       "    <tr>\n",
       "      <th>2</th>\n",
       "      <td>Travel</td>\n",
       "      <td>7.055206e+07</td>\n",
       "    </tr>\n",
       "  </tbody>\n",
       "</table>\n",
       "</div>"
      ],
      "text/plain": [
       "  Segment      Billings\n",
       "0   Goods  2.822457e+08\n",
       "1   Local  4.430979e+08\n",
       "2  Travel  7.055206e+07"
      ]
     },
     "metadata": {},
     "output_type": "display_data"
    },
    {
     "name": "stdout",
     "output_type": "stream",
     "text": [
      "Total billings including the missing billings: 795895609.8928181\n"
     ]
    }
   ],
   "source": [
    "#add missing billings back \n",
    "c.loc[1,'Billings'] += missing_billings\n",
    "\n",
    "display(c)\n",
    "\n",
    "print('Total billings including the missing billings: {}'.format(tb+missing_billings))"
   ]
  },
  {
   "cell_type": "code",
   "execution_count": 18,
   "metadata": {},
   "outputs": [
    {
     "data": {
      "text/html": [
       "<div>\n",
       "<style scoped>\n",
       "    .dataframe tbody tr th:only-of-type {\n",
       "        vertical-align: middle;\n",
       "    }\n",
       "\n",
       "    .dataframe tbody tr th {\n",
       "        vertical-align: top;\n",
       "    }\n",
       "\n",
       "    .dataframe thead th {\n",
       "        text-align: right;\n",
       "    }\n",
       "</style>\n",
       "<table border=\"1\" class=\"dataframe\">\n",
       "  <thead>\n",
       "    <tr style=\"text-align: right;\">\n",
       "      <th></th>\n",
       "      <th>Travel</th>\n",
       "      <th>Goods</th>\n",
       "      <th>Local</th>\n",
       "      <th>2013Q4</th>\n",
       "      <th>FullYear</th>\n",
       "    </tr>\n",
       "  </thead>\n",
       "  <tbody>\n",
       "    <tr>\n",
       "      <th>ME</th>\n",
       "      <td>70.552</td>\n",
       "      <td>282.2457</td>\n",
       "      <td>443.0988</td>\n",
       "      <td>795.896</td>\n",
       "      <td>2854.419</td>\n",
       "    </tr>\n",
       "    <tr>\n",
       "      <th>JPM</th>\n",
       "      <td>71.020</td>\n",
       "      <td>275.7160</td>\n",
       "      <td>490.1420</td>\n",
       "      <td>836.878</td>\n",
       "      <td>2895.401</td>\n",
       "    </tr>\n",
       "    <tr>\n",
       "      <th>MS</th>\n",
       "      <td>67.000</td>\n",
       "      <td>295.0000</td>\n",
       "      <td>508.0000</td>\n",
       "      <td>870.000</td>\n",
       "      <td>3029.000</td>\n",
       "    </tr>\n",
       "    <tr>\n",
       "      <th>Street Consensus</th>\n",
       "      <td>69.010</td>\n",
       "      <td>285.3580</td>\n",
       "      <td>499.0710</td>\n",
       "      <td>853.439</td>\n",
       "      <td>2928.733</td>\n",
       "    </tr>\n",
       "  </tbody>\n",
       "</table>\n",
       "</div>"
      ],
      "text/plain": [
       "                  Travel     Goods     Local   2013Q4  FullYear\n",
       "ME                70.552  282.2457  443.0988  795.896  2854.419\n",
       "JPM               71.020  275.7160  490.1420  836.878  2895.401\n",
       "MS                67.000  295.0000  508.0000  870.000  3029.000\n",
       "Street Consensus  69.010  285.3580  499.0710  853.439  2928.733"
      ]
     },
     "execution_count": 18,
     "metadata": {},
     "output_type": "execute_result"
    }
   ],
   "source": [
    "#create a table to display estimates against some wall street projections\n",
    "Estimates_df = pd.DataFrame(columns=['Travel','Goods','Local','2013Q4','FullYear'],\n",
    "                           index=['ME','JPM','MS','Street Consensus'])\n",
    "\n",
    "tvl = [70.552,71.02,67,69.01,]\n",
    "gds = [282.2457,275.716,295,285.358]\n",
    "lcl = [443.0988,490.142,508,499.071]\n",
    "q4 = [795.896,836.878,870,853.439]\n",
    "fy = [2854.419,2895.401,3029,2928.733]\n",
    "\n",
    "\n",
    "Estimates_df.Travel = tvl\n",
    "Estimates_df.Goods = gds\n",
    "Estimates_df.Local = lcl\n",
    "Estimates_df['2013Q4'] = q4\n",
    "Estimates_df.FullYear = fy\n",
    "\n",
    "Estimates_df"
   ]
  },
  {
   "cell_type": "markdown",
   "metadata": {},
   "source": [
    "# Challenge 2: Removing Duplicate Deals\n",
    "\n",
    "The second challenge is to find and remove duplicate deals from the specified data file.\n",
    "A duplicate is defined as two (or more) deals that have distinct urls but that offer the same good or service and have underlying purchase counts coming from the same source. "
   ]
  },
  {
   "cell_type": "code",
   "execution_count": 19,
   "metadata": {},
   "outputs": [
    {
     "data": {
      "text/html": [
       "<div>\n",
       "<style scoped>\n",
       "    .dataframe tbody tr th:only-of-type {\n",
       "        vertical-align: middle;\n",
       "    }\n",
       "\n",
       "    .dataframe tbody tr th {\n",
       "        vertical-align: top;\n",
       "    }\n",
       "\n",
       "    .dataframe thead th {\n",
       "        text-align: right;\n",
       "    }\n",
       "</style>\n",
       "<table border=\"1\" class=\"dataframe\">\n",
       "  <thead>\n",
       "    <tr style=\"text-align: right;\">\n",
       "      <th></th>\n",
       "      <th>Deal URL</th>\n",
       "      <th>Quantity Sold</th>\n",
       "      <th>Price</th>\n",
       "      <th>Observation Time</th>\n",
       "    </tr>\n",
       "  </thead>\n",
       "  <tbody>\n",
       "    <tr>\n",
       "      <th>0</th>\n",
       "      <td>http://www.groupon.be/deals/vlaams-brabant/col...</td>\n",
       "      <td>3</td>\n",
       "      <td>39.99</td>\n",
       "      <td>2015-03-30 22:37:23</td>\n",
       "    </tr>\n",
       "    <tr>\n",
       "      <th>1</th>\n",
       "      <td>http://www.groupon.be/deals/antwerpen/ga-hotel...</td>\n",
       "      <td>0</td>\n",
       "      <td>289.00</td>\n",
       "      <td>2015-03-30 04:45:55</td>\n",
       "    </tr>\n",
       "    <tr>\n",
       "      <th>2</th>\n",
       "      <td>http://www.groupon.be/deals/deal-national/grou...</td>\n",
       "      <td>6</td>\n",
       "      <td>74.95</td>\n",
       "      <td>2015-03-30 02:18:35</td>\n",
       "    </tr>\n",
       "    <tr>\n",
       "      <th>3</th>\n",
       "      <td>http://www.groupon.be/deals/brussel/clinica-ae...</td>\n",
       "      <td>260</td>\n",
       "      <td>39.00</td>\n",
       "      <td>2015-03-31 02:36:10</td>\n",
       "    </tr>\n",
       "    <tr>\n",
       "      <th>4</th>\n",
       "      <td>http://www.groupon.be/deals/antwerpen_fr/iduna...</td>\n",
       "      <td>2</td>\n",
       "      <td>119.99</td>\n",
       "      <td>2015-03-31 22:38:39</td>\n",
       "    </tr>\n",
       "  </tbody>\n",
       "</table>\n",
       "</div>"
      ],
      "text/plain": [
       "                                            Deal URL  Quantity Sold   Price  \\\n",
       "0  http://www.groupon.be/deals/vlaams-brabant/col...              3   39.99   \n",
       "1  http://www.groupon.be/deals/antwerpen/ga-hotel...              0  289.00   \n",
       "2  http://www.groupon.be/deals/deal-national/grou...              6   74.95   \n",
       "3  http://www.groupon.be/deals/brussel/clinica-ae...            260   39.00   \n",
       "4  http://www.groupon.be/deals/antwerpen_fr/iduna...              2  119.99   \n",
       "\n",
       "     Observation Time  \n",
       "0 2015-03-30 22:37:23  \n",
       "1 2015-03-30 04:45:55  \n",
       "2 2015-03-30 02:18:35  \n",
       "3 2015-03-31 02:36:10  \n",
       "4 2015-03-31 22:38:39  "
      ]
     },
     "execution_count": 19,
     "metadata": {},
     "output_type": "execute_result"
    }
   ],
   "source": [
    "data = pd.read_excel('gdeals.xlsx')\n",
    "\n",
    "data.head()"
   ]
  },
  {
   "cell_type": "code",
   "execution_count": 20,
   "metadata": {},
   "outputs": [
    {
     "data": {
      "text/plain": [
       "(74491, 4)"
      ]
     },
     "execution_count": 20,
     "metadata": {},
     "output_type": "execute_result"
    }
   ],
   "source": [
    "data.shape"
   ]
  },
  {
   "cell_type": "markdown",
   "metadata": {},
   "source": [
    "Based on the definition, we know duplicates will have the same quantity sold and price. Therefore, I will look at the URLs to determine what makes a deal a duplicate. URLs are structured so it is easy to spot similarities amongst them if there are any."
   ]
  },
  {
   "cell_type": "markdown",
   "metadata": {},
   "source": [
    "Using urlparse splits the URLs into its basic components; only the paths are imortant because they are what makes the url unique.\n",
    "\n",
    "__Feature Engineering__"
   ]
  },
  {
   "cell_type": "code",
   "execution_count": 21,
   "metadata": {},
   "outputs": [],
   "source": [
    "from urllib.parse import urlparse"
   ]
  },
  {
   "cell_type": "code",
   "execution_count": 22,
   "metadata": {},
   "outputs": [
    {
     "data": {
      "text/plain": [
       "ParseResult(scheme='http', netloc='www.groupon.be', path='/deals/vlaams-brabant/color-nails-1-1/44331719', params='', query='', fragment='')"
      ]
     },
     "execution_count": 22,
     "metadata": {},
     "output_type": "execute_result"
    }
   ],
   "source": [
    "#test urlparse\n",
    "url = 'http://www.groupon.be/deals/vlaams-brabant/color-nails-1-1/44331719'\n",
    "\n",
    "test = urlparse(url)\n",
    "\n",
    "test"
   ]
  },
  {
   "cell_type": "code",
   "execution_count": 23,
   "metadata": {},
   "outputs": [],
   "source": [
    "#create an empty list to hold url_paths\n",
    "url_paths = []\n",
    "\n",
    "#use a for loop to extract paths from each deal\n",
    "for i in data['Deal URL']:\n",
    "    p = urlparse(i).path\n",
    "    #add each path to the url_paths list\n",
    "    url_paths.append(p)\n",
    "\n",
    "#create a feature that holds the url paths \n",
    "data['url_path'] = url_paths"
   ]
  },
  {
   "cell_type": "code",
   "execution_count": 24,
   "metadata": {},
   "outputs": [
    {
     "data": {
      "text/html": [
       "<div>\n",
       "<style scoped>\n",
       "    .dataframe tbody tr th:only-of-type {\n",
       "        vertical-align: middle;\n",
       "    }\n",
       "\n",
       "    .dataframe tbody tr th {\n",
       "        vertical-align: top;\n",
       "    }\n",
       "\n",
       "    .dataframe thead th {\n",
       "        text-align: right;\n",
       "    }\n",
       "</style>\n",
       "<table border=\"1\" class=\"dataframe\">\n",
       "  <thead>\n",
       "    <tr style=\"text-align: right;\">\n",
       "      <th></th>\n",
       "      <th>Deal URL</th>\n",
       "      <th>Quantity Sold</th>\n",
       "      <th>Price</th>\n",
       "      <th>Observation Time</th>\n",
       "      <th>url_path</th>\n",
       "    </tr>\n",
       "  </thead>\n",
       "  <tbody>\n",
       "    <tr>\n",
       "      <th>0</th>\n",
       "      <td>http://www.groupon.be/deals/vlaams-brabant/col...</td>\n",
       "      <td>3</td>\n",
       "      <td>39.99</td>\n",
       "      <td>2015-03-30 22:37:23</td>\n",
       "      <td>/deals/vlaams-brabant/color-nails-1-1/44331719</td>\n",
       "    </tr>\n",
       "    <tr>\n",
       "      <th>1</th>\n",
       "      <td>http://www.groupon.be/deals/antwerpen/ga-hotel...</td>\n",
       "      <td>0</td>\n",
       "      <td>289.00</td>\n",
       "      <td>2015-03-30 04:45:55</td>\n",
       "      <td>/deals/antwerpen/ga-hotel-de-stokerij/57111009</td>\n",
       "    </tr>\n",
       "    <tr>\n",
       "      <th>2</th>\n",
       "      <td>http://www.groupon.be/deals/deal-national/grou...</td>\n",
       "      <td>6</td>\n",
       "      <td>74.95</td>\n",
       "      <td>2015-03-30 02:18:35</td>\n",
       "      <td>/deals/deal-national/groupon-goods-global-gmbh...</td>\n",
       "    </tr>\n",
       "    <tr>\n",
       "      <th>3</th>\n",
       "      <td>http://www.groupon.be/deals/brussel/clinica-ae...</td>\n",
       "      <td>260</td>\n",
       "      <td>39.00</td>\n",
       "      <td>2015-03-31 02:36:10</td>\n",
       "      <td>/deals/brussel/clinica-aesthetica/29741756</td>\n",
       "    </tr>\n",
       "    <tr>\n",
       "      <th>4</th>\n",
       "      <td>http://www.groupon.be/deals/antwerpen_fr/iduna...</td>\n",
       "      <td>2</td>\n",
       "      <td>119.99</td>\n",
       "      <td>2015-03-31 22:38:39</td>\n",
       "      <td>/deals/antwerpen_fr/iduna-1/41429518</td>\n",
       "    </tr>\n",
       "  </tbody>\n",
       "</table>\n",
       "</div>"
      ],
      "text/plain": [
       "                                            Deal URL  Quantity Sold   Price  \\\n",
       "0  http://www.groupon.be/deals/vlaams-brabant/col...              3   39.99   \n",
       "1  http://www.groupon.be/deals/antwerpen/ga-hotel...              0  289.00   \n",
       "2  http://www.groupon.be/deals/deal-national/grou...              6   74.95   \n",
       "3  http://www.groupon.be/deals/brussel/clinica-ae...            260   39.00   \n",
       "4  http://www.groupon.be/deals/antwerpen_fr/iduna...              2  119.99   \n",
       "\n",
       "     Observation Time                                           url_path  \n",
       "0 2015-03-30 22:37:23     /deals/vlaams-brabant/color-nails-1-1/44331719  \n",
       "1 2015-03-30 04:45:55     /deals/antwerpen/ga-hotel-de-stokerij/57111009  \n",
       "2 2015-03-30 02:18:35  /deals/deal-national/groupon-goods-global-gmbh...  \n",
       "3 2015-03-31 02:36:10         /deals/brussel/clinica-aesthetica/29741756  \n",
       "4 2015-03-31 22:38:39               /deals/antwerpen_fr/iduna-1/41429518  "
      ]
     },
     "execution_count": 24,
     "metadata": {},
     "output_type": "execute_result"
    }
   ],
   "source": [
    "data.head()"
   ]
  },
  {
   "cell_type": "markdown",
   "metadata": {},
   "source": [
    "The way these URL paths are structured is the following: <ul>\n",
    "    <li>Segment --> City --> ID --> Unique Code </li> </ul>"
   ]
  },
  {
   "cell_type": "code",
   "execution_count": 25,
   "metadata": {},
   "outputs": [
    {
     "data": {
      "text/html": [
       "<div>\n",
       "<style scoped>\n",
       "    .dataframe tbody tr th:only-of-type {\n",
       "        vertical-align: middle;\n",
       "    }\n",
       "\n",
       "    .dataframe tbody tr th {\n",
       "        vertical-align: top;\n",
       "    }\n",
       "\n",
       "    .dataframe thead th {\n",
       "        text-align: right;\n",
       "    }\n",
       "</style>\n",
       "<table border=\"1\" class=\"dataframe\">\n",
       "  <thead>\n",
       "    <tr style=\"text-align: right;\">\n",
       "      <th></th>\n",
       "      <th>Deal URL</th>\n",
       "      <th>Quantity Sold</th>\n",
       "      <th>Price</th>\n",
       "      <th>Observation Time</th>\n",
       "      <th>url_path</th>\n",
       "      <th>deal_id</th>\n",
       "    </tr>\n",
       "  </thead>\n",
       "  <tbody>\n",
       "    <tr>\n",
       "      <th>0</th>\n",
       "      <td>http://www.groupon.be/deals/vlaams-brabant/col...</td>\n",
       "      <td>3</td>\n",
       "      <td>39.99</td>\n",
       "      <td>2015-03-30 22:37:23</td>\n",
       "      <td>/deals/vlaams-brabant/color-nails-1-1/44331719</td>\n",
       "      <td>color-nails-1-1</td>\n",
       "    </tr>\n",
       "    <tr>\n",
       "      <th>1</th>\n",
       "      <td>http://www.groupon.be/deals/antwerpen/ga-hotel...</td>\n",
       "      <td>0</td>\n",
       "      <td>289.00</td>\n",
       "      <td>2015-03-30 04:45:55</td>\n",
       "      <td>/deals/antwerpen/ga-hotel-de-stokerij/57111009</td>\n",
       "      <td>ga-hotel-de-stokerij</td>\n",
       "    </tr>\n",
       "    <tr>\n",
       "      <th>2</th>\n",
       "      <td>http://www.groupon.be/deals/deal-national/grou...</td>\n",
       "      <td>6</td>\n",
       "      <td>74.95</td>\n",
       "      <td>2015-03-30 02:18:35</td>\n",
       "      <td>/deals/deal-national/groupon-goods-global-gmbh...</td>\n",
       "      <td>groupon-goods-global-gmbh</td>\n",
       "    </tr>\n",
       "    <tr>\n",
       "      <th>3</th>\n",
       "      <td>http://www.groupon.be/deals/brussel/clinica-ae...</td>\n",
       "      <td>260</td>\n",
       "      <td>39.00</td>\n",
       "      <td>2015-03-31 02:36:10</td>\n",
       "      <td>/deals/brussel/clinica-aesthetica/29741756</td>\n",
       "      <td>clinica-aesthetica</td>\n",
       "    </tr>\n",
       "    <tr>\n",
       "      <th>4</th>\n",
       "      <td>http://www.groupon.be/deals/antwerpen_fr/iduna...</td>\n",
       "      <td>2</td>\n",
       "      <td>119.99</td>\n",
       "      <td>2015-03-31 22:38:39</td>\n",
       "      <td>/deals/antwerpen_fr/iduna-1/41429518</td>\n",
       "      <td>iduna-1</td>\n",
       "    </tr>\n",
       "  </tbody>\n",
       "</table>\n",
       "</div>"
      ],
      "text/plain": [
       "                                            Deal URL  Quantity Sold   Price  \\\n",
       "0  http://www.groupon.be/deals/vlaams-brabant/col...              3   39.99   \n",
       "1  http://www.groupon.be/deals/antwerpen/ga-hotel...              0  289.00   \n",
       "2  http://www.groupon.be/deals/deal-national/grou...              6   74.95   \n",
       "3  http://www.groupon.be/deals/brussel/clinica-ae...            260   39.00   \n",
       "4  http://www.groupon.be/deals/antwerpen_fr/iduna...              2  119.99   \n",
       "\n",
       "     Observation Time                                           url_path  \\\n",
       "0 2015-03-30 22:37:23     /deals/vlaams-brabant/color-nails-1-1/44331719   \n",
       "1 2015-03-30 04:45:55     /deals/antwerpen/ga-hotel-de-stokerij/57111009   \n",
       "2 2015-03-30 02:18:35  /deals/deal-national/groupon-goods-global-gmbh...   \n",
       "3 2015-03-31 02:36:10         /deals/brussel/clinica-aesthetica/29741756   \n",
       "4 2015-03-31 22:38:39               /deals/antwerpen_fr/iduna-1/41429518   \n",
       "\n",
       "                     deal_id  \n",
       "0            color-nails-1-1  \n",
       "1       ga-hotel-de-stokerij  \n",
       "2  groupon-goods-global-gmbh  \n",
       "3         clinica-aesthetica  \n",
       "4                    iduna-1  "
      ]
     },
     "execution_count": 25,
     "metadata": {},
     "output_type": "execute_result"
    }
   ],
   "source": [
    "#create an empty list for store deal_ids\n",
    "deal_ids = []\n",
    "\n",
    "#run a loop to extract each deal_id\n",
    "for i in data.url_path:\n",
    "    p = i.split('/')\n",
    "    d = p[3]\n",
    "    #add each deal_id to the deal_ids list\n",
    "    deal_ids.append(d)\n",
    "    \n",
    "#create a new feature using the deal_ids\n",
    "data['deal_id'] = deal_ids\n",
    "\n",
    "data.head()"
   ]
  },
  {
   "cell_type": "markdown",
   "metadata": {},
   "source": [
    "Although you can parse the urls by simply using the split method, it is good practice to extract the path first to understand how the path is structured. \n",
    "\n",
    "Now I can alter the definition of \"duplicate\" as being any deal with the same quantity sold, price and unique deal id."
   ]
  },
  {
   "cell_type": "code",
   "execution_count": 26,
   "metadata": {},
   "outputs": [
    {
     "name": "stdout",
     "output_type": "stream",
     "text": [
      "79.70 percent of the data are duplicates.\n"
     ]
    }
   ],
   "source": [
    "#check how many duplicated deals there are\n",
    "dp = data.duplicated(['Quantity Sold','Price','deal_id']).sum()\n",
    "\n",
    "print('%0.2f percent of the data are duplicates.'%((dp / data.shape[0]) * 100))"
   ]
  },
  {
   "cell_type": "code",
   "execution_count": 27,
   "metadata": {},
   "outputs": [
    {
     "data": {
      "text/html": [
       "<div>\n",
       "<style scoped>\n",
       "    .dataframe tbody tr th:only-of-type {\n",
       "        vertical-align: middle;\n",
       "    }\n",
       "\n",
       "    .dataframe tbody tr th {\n",
       "        vertical-align: top;\n",
       "    }\n",
       "\n",
       "    .dataframe thead th {\n",
       "        text-align: right;\n",
       "    }\n",
       "</style>\n",
       "<table border=\"1\" class=\"dataframe\">\n",
       "  <thead>\n",
       "    <tr style=\"text-align: right;\">\n",
       "      <th></th>\n",
       "      <th>Deal URL</th>\n",
       "      <th>Quantity Sold</th>\n",
       "      <th>Price</th>\n",
       "      <th>Observation Time</th>\n",
       "      <th>url_path</th>\n",
       "      <th>deal_id</th>\n",
       "    </tr>\n",
       "  </thead>\n",
       "  <tbody>\n",
       "    <tr>\n",
       "      <th>4</th>\n",
       "      <td>http://www.groupon.be/deals/antwerpen_fr/iduna...</td>\n",
       "      <td>2</td>\n",
       "      <td>119.99</td>\n",
       "      <td>2015-03-31 22:38:39</td>\n",
       "      <td>/deals/antwerpen_fr/iduna-1/41429518</td>\n",
       "      <td>iduna-1</td>\n",
       "    </tr>\n",
       "    <tr>\n",
       "      <th>23</th>\n",
       "      <td>http://www.groupon.be/deals/dealbank_nl_be/no-...</td>\n",
       "      <td>13</td>\n",
       "      <td>259.99</td>\n",
       "      <td>2015-03-31 22:13:05</td>\n",
       "      <td>/deals/dealbank_nl_be/no-hair-studio/28764592</td>\n",
       "      <td>no-hair-studio</td>\n",
       "    </tr>\n",
       "    <tr>\n",
       "      <th>27</th>\n",
       "      <td>http://www.groupon.be/deals/groupon-voyages/ga...</td>\n",
       "      <td>0</td>\n",
       "      <td>55.00</td>\n",
       "      <td>2015-03-31 03:13:44</td>\n",
       "      <td>/deals/groupon-voyages/ga-hotel-le-riquewihr-1...</td>\n",
       "      <td>ga-hotel-le-riquewihr-11</td>\n",
       "    </tr>\n",
       "    <tr>\n",
       "      <th>90</th>\n",
       "      <td>http://www.groupon.be/deals/groupon-voyages/ga...</td>\n",
       "      <td>0</td>\n",
       "      <td>35.00</td>\n",
       "      <td>2015-03-31 08:35:59</td>\n",
       "      <td>/deals/groupon-voyages/ga-hotel-marrakech-le-s...</td>\n",
       "      <td>ga-hotel-marrakech-le-semiramis-9</td>\n",
       "    </tr>\n",
       "    <tr>\n",
       "      <th>111</th>\n",
       "      <td>http://www.groupon.be/deals/nationale-deal/per...</td>\n",
       "      <td>16</td>\n",
       "      <td>13.95</td>\n",
       "      <td>2015-03-31 01:11:15</td>\n",
       "      <td>/deals/nationale-deal/personalgifts/30379502</td>\n",
       "      <td>personalgifts</td>\n",
       "    </tr>\n",
       "  </tbody>\n",
       "</table>\n",
       "</div>"
      ],
      "text/plain": [
       "                                              Deal URL  Quantity Sold   Price  \\\n",
       "4    http://www.groupon.be/deals/antwerpen_fr/iduna...              2  119.99   \n",
       "23   http://www.groupon.be/deals/dealbank_nl_be/no-...             13  259.99   \n",
       "27   http://www.groupon.be/deals/groupon-voyages/ga...              0   55.00   \n",
       "90   http://www.groupon.be/deals/groupon-voyages/ga...              0   35.00   \n",
       "111  http://www.groupon.be/deals/nationale-deal/per...             16   13.95   \n",
       "\n",
       "       Observation Time                                           url_path  \\\n",
       "4   2015-03-31 22:38:39               /deals/antwerpen_fr/iduna-1/41429518   \n",
       "23  2015-03-31 22:13:05      /deals/dealbank_nl_be/no-hair-studio/28764592   \n",
       "27  2015-03-31 03:13:44  /deals/groupon-voyages/ga-hotel-le-riquewihr-1...   \n",
       "90  2015-03-31 08:35:59  /deals/groupon-voyages/ga-hotel-marrakech-le-s...   \n",
       "111 2015-03-31 01:11:15       /deals/nationale-deal/personalgifts/30379502   \n",
       "\n",
       "                               deal_id  \n",
       "4                              iduna-1  \n",
       "23                      no-hair-studio  \n",
       "27            ga-hotel-le-riquewihr-11  \n",
       "90   ga-hotel-marrakech-le-semiramis-9  \n",
       "111                      personalgifts  "
      ]
     },
     "execution_count": 27,
     "metadata": {},
     "output_type": "execute_result"
    }
   ],
   "source": [
    "#create a new df of only unique deals\n",
    "valid = data.drop_duplicates(['Quantity Sold','Price','deal_id'], keep='last')\n",
    "\n",
    "valid.head()"
   ]
  }
 ],
 "metadata": {
  "kernelspec": {
   "display_name": "Python 3",
   "language": "python",
   "name": "python3"
  },
  "language_info": {
   "codemirror_mode": {
    "name": "ipython",
    "version": 3
   },
   "file_extension": ".py",
   "mimetype": "text/x-python",
   "name": "python",
   "nbconvert_exporter": "python",
   "pygments_lexer": "ipython3",
   "version": "3.6.4"
  }
 },
 "nbformat": 4,
 "nbformat_minor": 2
}
